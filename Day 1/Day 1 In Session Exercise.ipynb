{
 "cells": [
  {
   "cell_type": "code",
   "execution_count": 1,
   "metadata": {},
   "outputs": [],
   "source": [
    "district = \"Gwalior\"  \n",
    "infected_total_till_date = 1234\n",
    "infected_on_10th_june_2020 = 12\n",
    "infected_on_11th_june_2020 = 2\n",
    "infected_on_12th_june_2020 = 13"
   ]
  },
  {
   "cell_type": "code",
   "execution_count": 2,
   "metadata": {},
   "outputs": [],
   "source": [
    "percentage_change = ((infected_on_12th_june_2020 - infected_on_10th_june_2020) / infected_on_12th_june_2020) * 100"
   ]
  },
  {
   "cell_type": "code",
   "execution_count": 3,
   "metadata": {},
   "outputs": [
    {
     "name": "stdout",
     "output_type": "stream",
     "text": [
      "District =  Gwalior\n",
      "Infected total till date =  1234\n",
      "Infected on 10th June 2020 =  12\n",
      "Infected on 11th June 2020 =  2\n",
      "Infected on 12th June 2020 =  13\n",
      "% change in the infected in given three days =  7.6923076923076925\n"
     ]
    }
   ],
   "source": [
    "print(\"District = \", district)\n",
    "print(\"Infected total till date = \", infected_total_till_date)\n",
    "print(\"Infected on 10th June 2020 = \", infected_on_10th_june_2020)\n",
    "print(\"Infected on 11th June 2020 = \", infected_on_11th_june_2020)\n",
    "print(\"Infected on 12th June 2020 = \", infected_on_12th_june_2020)\n",
    "print(\"% change in the infected in given three days = \", percentage_change)"
   ]
  },
  {
   "cell_type": "code",
   "execution_count": null,
   "metadata": {},
   "outputs": [],
   "source": []
  }
 ],
 "metadata": {
  "kernelspec": {
   "display_name": "Python 3",
   "language": "python",
   "name": "python3"
  },
  "language_info": {
   "codemirror_mode": {
    "name": "ipython",
    "version": 3
   },
   "file_extension": ".py",
   "mimetype": "text/x-python",
   "name": "python",
   "nbconvert_exporter": "python",
   "pygments_lexer": "ipython3",
   "version": "3.7.6"
  }
 },
 "nbformat": 4,
 "nbformat_minor": 4
}
