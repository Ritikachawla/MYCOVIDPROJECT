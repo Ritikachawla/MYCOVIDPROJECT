{
 "cells": [
  {
   "cell_type": "code",
   "execution_count": 1,
   "metadata": {},
   "outputs": [
    {
     "name": "stdout",
     "output_type": "stream",
     "text": [
      "State names : \n",
      "Maharastra\n",
      "Tamil Nadu\n",
      "Delhi\n",
      "Gujarat\n",
      "Uttar Pradesh\n"
     ]
    }
   ],
   "source": [
    "#List 1 - Names of the state, in order as placed\n",
    "list_1 = [\"Maharastra\", \"Tamil Nadu\", \"Delhi\", \"Gujarat\", \"Uttar Pradesh\"]\n",
    "print(\"State names : \")\n",
    "for state in list_1:\n",
    "    print(state)"
   ]
  },
  {
   "cell_type": "code",
   "execution_count": 2,
   "metadata": {},
   "outputs": [
    {
     "name": "stdout",
     "output_type": "stream",
     "text": [
      "State wise Infected COVID19 cases : \n",
      "Maharastra : 180298\n",
      "Tamil Nadu : 94049\n",
      "Delhi : 89802\n",
      "Gujarat : 33232\n",
      "Uttar Pradesh : 24056\n"
     ]
    }
   ],
   "source": [
    "#List 2 - Having Infected numbers of the states in List 1\n",
    "list_2 = [180298, 94049, 89802, 33232, 24056]\n",
    "print(\"State wise Infected COVID19 cases : \")\n",
    "for i in range(len(list_1)):\n",
    "    print(list_1[i], \":\", list_2[i])"
   ]
  },
  {
   "cell_type": "code",
   "execution_count": 3,
   "metadata": {},
   "outputs": [
    {
     "name": "stdout",
     "output_type": "stream",
     "text": [
      "State wise Recovered COVID19 cases:\n",
      "Maharastra : 93154\n",
      "Tamil Nadu : 52926\n",
      "Delhi : 59992\n",
      "Gujarat : 24030\n",
      "Uttar Pradesh : 16629\n"
     ]
    }
   ],
   "source": [
    "#Tuple - Numbers in recovered, state wise\n",
    "tuple = [(\"Maharastra\", 93154), (\"Tamil Nadu\", 52926), (\"Delhi\", 59992), (\"Gujarat\", 24030), (\"Uttar Pradesh\", 16629)]\n",
    "print(\"State wise Recovered COVID19 cases:\")\n",
    "for (tuple_1, tuple_2) in tuple:\n",
    "    print(tuple_1, \":\", tuple_2)"
   ]
  },
  {
   "cell_type": "code",
   "execution_count": 4,
   "metadata": {},
   "outputs": [
    {
     "name": "stdout",
     "output_type": "stream",
     "text": [
      "State wise Infected COVID19 cases : \n",
      "Maharastra : 180298\n",
      "Tamil Nadu : 94049\n",
      "Delhi : 89802\n",
      "Gujarat : 33232\n",
      "Uttar Pradesh : 24056\n"
     ]
    }
   ],
   "source": [
    "#Dictionary - State : Infected\n",
    "dictionary = {\"Maharastra\" : 180298, \"Tamil Nadu\" : 94049, \"Delhi\" : 89802, \"Gujarat\" : 33232, \"Uttar Pradesh\" : 24056}\n",
    "print(\"State wise Infected COVID19 cases : \")\n",
    "for i, j in dictionary.items():\n",
    "    print(i, \":\", j)"
   ]
  },
  {
   "cell_type": "code",
   "execution_count": null,
   "metadata": {},
   "outputs": [],
   "source": []
  }
 ],
 "metadata": {
  "kernelspec": {
   "display_name": "Python 3",
   "language": "python",
   "name": "python3"
  },
  "language_info": {
   "codemirror_mode": {
    "name": "ipython",
    "version": 3
   },
   "file_extension": ".py",
   "mimetype": "text/x-python",
   "name": "python",
   "nbconvert_exporter": "python",
   "pygments_lexer": "ipython3",
   "version": "3.7.6"
  }
 },
 "nbformat": 4,
 "nbformat_minor": 4
}
