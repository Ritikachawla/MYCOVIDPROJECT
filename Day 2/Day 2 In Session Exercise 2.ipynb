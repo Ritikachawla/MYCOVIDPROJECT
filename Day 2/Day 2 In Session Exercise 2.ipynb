{
 "cells": [
  {
   "cell_type": "code",
   "execution_count": 1,
   "metadata": {},
   "outputs": [],
   "source": [
    "district = \"Mumbai\"\n",
    "infected_total_till_date = 136596\n",
    "recovered_till_date = 67890\n",
    "deaths_till_date = 5732"
   ]
  },
  {
   "cell_type": "code",
   "execution_count": 2,
   "metadata": {},
   "outputs": [],
   "source": [
    "def display():\n",
    "    print(\"District : {}\".format(district))\n",
    "    print(\"Infected total till date : {}\".format(infected_total_till_date))\n",
    "    print(\"Recovered till date : {}\".format(recovered_till_date))\n",
    "    print(\"Deaths till date : {}\".format(deaths_till_date))"
   ]
  },
  {
   "cell_type": "code",
   "execution_count": 3,
   "metadata": {},
   "outputs": [],
   "source": [
    "#IFR(Infection Fatality Rate)\n",
    "def ifr(infected_total_till_date, deaths_till_date):\n",
    "    ifr = (deaths_till_date / infected_total_till_date) * 100\n",
    "    print(\"IFR(Infected Fatality Rate) of {1} is {0}\".format(ifr, district))"
   ]
  },
  {
   "cell_type": "code",
   "execution_count": 4,
   "metadata": {},
   "outputs": [],
   "source": [
    "#CMR(Crude Mortality Rate)\n",
    "def cmr(infected_total_till_date, deaths_till_date, recovered_till_date):\n",
    "    total = infected_total_till_date + deaths_till_date + recovered_till_date\n",
    "    cmr = (deaths_till_date / total) * 1000\n",
    "    print(\"CMR(Crude Mortality Rate) of {1} is {0}\".format(cmr, district))"
   ]
  },
  {
   "cell_type": "code",
   "execution_count": 5,
   "metadata": {},
   "outputs": [
    {
     "name": "stdout",
     "output_type": "stream",
     "text": [
      "District : Mumbai\n",
      "Infected total till date : 136596\n",
      "Recovered till date : 67890\n",
      "Deaths till date : 5732\n",
      "IFR(Infected Fatality Rate) of Mumbai is 4.196316143957364\n",
      "CMR(Crude Mortality Rate) of Mumbai is 322.95046095006137\n"
     ]
    }
   ],
   "source": [
    "display()\n",
    "ifr(136596, 5732)\n",
    "cmr(136596, 67890, 5732)"
   ]
  },
  {
   "cell_type": "code",
   "execution_count": null,
   "metadata": {},
   "outputs": [],
   "source": []
  }
 ],
 "metadata": {
  "kernelspec": {
   "display_name": "Python 3",
   "language": "python",
   "name": "python3"
  },
  "language_info": {
   "codemirror_mode": {
    "name": "ipython",
    "version": 3
   },
   "file_extension": ".py",
   "mimetype": "text/x-python",
   "name": "python",
   "nbconvert_exporter": "python",
   "pygments_lexer": "ipython3",
   "version": "3.7.6"
  }
 },
 "nbformat": 4,
 "nbformat_minor": 4
}
