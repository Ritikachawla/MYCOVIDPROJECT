{
 "cells": [
  {
   "cell_type": "code",
   "execution_count": 1,
   "metadata": {},
   "outputs": [
    {
     "name": "stdout",
     "output_type": "stream",
     "text": [
      "State names : \n",
      "Maharashtra\n",
      "Tamil Nadu\n",
      "Delhi\n",
      "Gujarat\n",
      "Uttar Pradesh\n",
      "West Bengal\n",
      "Telengana\n",
      "Karnataka\n",
      "Rajasthan\n",
      "Andhra Pradesh\n",
      "Haryana\n",
      "Madhya Pradesh\n",
      "Bihar\n",
      "Assam\n",
      "Odisha\n",
      "Jammu and Kashmir\n",
      "Punjab\n",
      "Kerala\n",
      "Chhattisgarh\n",
      "Uttarakhand\n",
      "Jharkhand\n",
      "Tripura\n",
      "Goa\n",
      "Manipur\n",
      "Himachal Pradesh\n",
      "Ladakh\n",
      "Puducherry\n",
      "Nagaland\n",
      "Chandigarh\n",
      "Dadra and Nagar Haveli\n",
      "Arunachal Pradesh\n",
      "Mizoram\n",
      "Andaman and Nicobar\n",
      "Sikkim\n",
      "Meghalaya\n",
      "Lakshadweep\n"
     ]
    }
   ],
   "source": [
    "#List 1 - Names of the state, in order as placed\n",
    "list_1 = [\"Maharashtra\", \"Tamil Nadu\", \"Delhi\", \"Gujarat\", \"Uttar Pradesh\", \"West Bengal\", \"Telengana\", \"Karnataka\", \"Rajasthan\", \"Andhra Pradesh\", \"Haryana\", \"Madhya Pradesh\", \"Bihar\", \"Assam\", \"Odisha\", \"Jammu and Kashmir\", \"Punjab\", \"Kerala\", \"Chhattisgarh\", \"Uttarakhand\", \"Jharkhand\", \"Tripura\", \"Goa\", \"Manipur\", \"Himachal Pradesh\", \"Ladakh\", \"Puducherry\", \"Nagaland\", \"Chandigarh\", \"Dadra and Nagar Haveli\", \"Arunachal Pradesh\", \"Mizoram\", \"Andaman and Nicobar\", \"Sikkim\", \"Meghalaya\", \"Lakshadweep\"]\n",
    "print(\"State names : \")\n",
    "for state in list_1:\n",
    "    print(state)"
   ]
  },
  {
   "cell_type": "code",
   "execution_count": 2,
   "metadata": {},
   "outputs": [
    {
     "name": "stdout",
     "output_type": "stream",
     "text": [
      "State wise Infected COVID19 cases : \n",
      "Maharashtra : 192990\n",
      "Tamil Nadu : 102721\n",
      "Delhi : 94695\n",
      "Gujarat : 34600\n",
      "Uttar Pradesh : 25797\n",
      "West Bengal : 20488\n",
      "Telengana : 20462\n",
      "Karnataka : 19710\n",
      "Rajasthan : 19052\n",
      "Andhra Pradesh : 16934\n",
      "Haryana : 16003\n",
      "Madhya Pradesh : 14297\n",
      "Bihar : 10954\n",
      "Assam : 9673\n",
      "Odisha : 8106\n",
      "Jammu and Kashmir : 8019\n",
      "Punjab : 5937\n",
      "Kerala : 4964\n",
      "Chhattisgarh : 3065\n",
      "Uttarakhand : 3048\n",
      "Jharkhand : 2695\n",
      "Tripura : 1525\n",
      "Goa : 1482\n",
      "Manipur : 1316\n",
      "Himachal Pradesh : 1033\n",
      "Ladakh : 1001\n",
      "Puducherry : 802\n",
      "Nagaland : 539\n",
      "Chandigarh : 457\n",
      "Dadra and Nagar Haveli : 257\n",
      "Arunachal Pradesh : 252\n",
      "Mizoram : 162\n",
      "Andaman and Nicobar : 116\n",
      "Sikkim : 102\n",
      "Meghalaya : 62\n",
      "Lakshadweep : 0\n"
     ]
    }
   ],
   "source": [
    "#List 2 - Having Infected numbers of the states in List 1\n",
    "list_2 = [192990, 102721, 94695, 34600, 25797, 20488, 20462, 19710, 19052, 16934, 16003, 14297, 10954, 9673, 8106, 8019, 5937, 4964, 3065, 3048, 2695, 1525, 1482, 1316, 1033, 1001, 802, 539, 457, 257, 252, 162, 116, 102, 62, 0]\n",
    "print(\"State wise Infected COVID19 cases : \")\n",
    "for i in range(len(list_1)):\n",
    "    print(list_1[i], \":\", list_2[i])"
   ]
  },
  {
   "cell_type": "code",
   "execution_count": 3,
   "metadata": {},
   "outputs": [
    {
     "name": "stdout",
     "output_type": "stream",
     "text": [
      "State wise Recovered COVID19 cases:\n",
      "Maharashtra : 104687\n",
      "Tamil Nadu : 58378\n",
      "Delhi : 65624\n",
      "Gujarat : 24933\n",
      "Uttar Pradesh : 17597\n",
      "West Bengal : 13571\n",
      "Telengana : 10195\n",
      "Karnataka : 8805\n",
      "Rajasthan : 15281\n",
      "Andhra Pradesh : 7632\n",
      "Haryana : 11691\n",
      "Madhya Pradesh : 11049\n",
      "Bihar : 8214\n",
      "Assam : 6349\n",
      "Odisha : 5705\n",
      "Jammu and Kashmir : 5075\n",
      "Punjab : 4266\n",
      "Kerala : 2841\n",
      "Chhattisgarh : 2437\n",
      "Uttarakhand : 2481\n",
      "Jharkhand : 2001\n",
      "Tripura : 1199\n",
      "Goa : 734\n",
      "Manipur : 639\n",
      "Himachal Pradesh : 667\n",
      "Ladakh : 777\n",
      "Puducherry : 331\n",
      "Nagaland : 228\n",
      "Chandigarh : 393\n",
      "Dadra and Nagar Haveli : 96\n",
      "Arunachal Pradesh : 75\n",
      "Mizoram : 126\n",
      "Andaman and Nicobar : 54\n",
      "Sikkim : 53\n",
      "Meghalaya : 43\n",
      "Lakshadweep : 0\n"
     ]
    }
   ],
   "source": [
    "#Tuple - Numbers in recovered, state wise\n",
    "tuple = [(\"Maharashtra\", 104687), (\"Tamil Nadu\", 58378), (\"Delhi\", 65624), (\"Gujarat\", 24933), (\"Uttar Pradesh\", 17597), (\"West Bengal\", 13571), (\"Telengana\", 10195), (\"Karnataka\", 8805), (\"Rajasthan\", 15281), (\"Andhra Pradesh\", 7632), (\"Haryana\", 11691), (\"Madhya Pradesh\", 11049), (\"Bihar\", 8214), (\"Assam\", 6349), (\"Odisha\", 5705), (\"Jammu and Kashmir\", 5075), (\"Punjab\", 4266), (\"Kerala\", 2841), (\"Chhattisgarh\", 2437), (\"Uttarakhand\", 2481), (\"Jharkhand\", 2001), (\"Tripura\", 1199), (\"Goa\", 734), (\"Manipur\", 639), (\"Himachal Pradesh\", 667), (\"Ladakh\", 777), (\"Puducherry\", 331), (\"Nagaland\", 228), (\"Chandigarh\", 393), (\"Dadra and Nagar Haveli\", 96), (\"Arunachal Pradesh\", 75), (\"Mizoram\", 126), (\"Andaman and Nicobar\", 54), (\"Sikkim\", 53), (\"Meghalaya\", 43), (\"Lakshadweep\", 0)]\n",
    "print(\"State wise Recovered COVID19 cases:\")\n",
    "for (tuple_1, tuple_2) in tuple:\n",
    "    print(tuple_1, \":\", tuple_2)"
   ]
  },
  {
   "cell_type": "code",
   "execution_count": 4,
   "metadata": {},
   "outputs": [
    {
     "name": "stdout",
     "output_type": "stream",
     "text": [
      "State wise Infected COVID19 cases : \n",
      "Maharashtra : 192990\n",
      "Tamil Nadu : 102721\n",
      "Delhi : 94695\n",
      "Gujarat : 34600\n",
      "Uttar Pradesh : 25797\n",
      "West Bengal : 20488\n",
      "Telengana : 20462\n",
      "Karnataka : 19710\n",
      "Rajasthan : 19052\n",
      "Andhra Pradesh : 16934\n",
      "Haryana : 16003\n",
      "Madhya Pradesh : 14297\n",
      "Bihar : 10954\n",
      "Assam : 9673\n",
      "Odisha : 8106\n",
      "Jammu and Kashmir : 8019\n",
      "Punjab : 5937\n",
      "Kerala : 4964\n",
      "Chhattisgarh : 3065\n",
      "Uttarakhand : 3048\n",
      "Jharkhand : 2695\n",
      "Tripura : 1525\n",
      "Goa : 1482\n",
      "Manipur : 1316\n",
      "Himachal Pradesh : 1033\n",
      "Ladakh : 1001\n",
      "Puducherry : 802\n",
      "Nagaland : 539\n",
      "Chandigarh : 457\n",
      "Dadra and Nagar Haveli : 257\n",
      "Arunachal Pradesh : 252\n",
      "Mizoram : 162\n",
      "Andaman and Nicobar : 116\n",
      "Sikkim : 102\n",
      "Meghalaya : 62\n",
      "Lakshadweep : 0\n"
     ]
    }
   ],
   "source": [
    "#Dictionary - State : Infected\n",
    "dictionary = {\"Maharashtra\" : 192990, \"Tamil Nadu\" : 102721, \"Delhi\" : 94695, \"Gujarat\" : 34600, \"Uttar Pradesh\" : 25797, \"West Bengal\" : 20488, \"Telengana\" : 20462, \"Karnataka\" : 19710, \"Rajasthan\" : 19052, \"Andhra Pradesh\" : 16934, \"Haryana\" : 16003, \"Madhya Pradesh\" : 14297, \"Bihar\" : 10954, \"Assam\" : 9673, \"Odisha\" : 8106, \"Jammu and Kashmir\" : 8019, \"Punjab\" : 5937, \"Kerala\" : 4964, \"Chhattisgarh\" : 3065, \"Uttarakhand\" : 3048, \"Jharkhand\" : 2695, \"Tripura\" : 1525, \"Goa\" : 1482, \"Manipur\" : 1316, \"Himachal Pradesh\" : 1033, \"Ladakh\" : 1001, \"Puducherry\" : 802, \"Nagaland\" : 539, \"Chandigarh\" : 457, \"Dadra and Nagar Haveli\" : 257, \"Arunachal Pradesh\" : 252, \"Mizoram\" : 162, \"Andaman and Nicobar\" : 116, \"Sikkim\" : 102, \"Meghalaya\" : 62, \"Lakshadweep\" : 0}\n",
    "print(\"State wise Infected COVID19 cases : \")\n",
    "for i, j in dictionary.items():\n",
    "    print(i, \":\", j)"
   ]
  },
  {
   "cell_type": "code",
   "execution_count": null,
   "metadata": {},
   "outputs": [],
   "source": []
  }
 ],
 "metadata": {
  "kernelspec": {
   "display_name": "Python 3",
   "language": "python",
   "name": "python3"
  },
  "language_info": {
   "codemirror_mode": {
    "name": "ipython",
    "version": 3
   },
   "file_extension": ".py",
   "mimetype": "text/x-python",
   "name": "python",
   "nbconvert_exporter": "python",
   "pygments_lexer": "ipython3",
   "version": "3.7.6"
  }
 },
 "nbformat": 4,
 "nbformat_minor": 4
}
